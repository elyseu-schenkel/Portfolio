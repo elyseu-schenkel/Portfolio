{
 "cells": [
  {
   "cell_type": "code",
   "execution_count": 1,
   "id": "d6b89400-9851-48c6-b209-7f0a6d7a8063",
   "metadata": {},
   "outputs": [],
   "source": [
    "# Importing libraries\n",
    "import pandas as pd\n",
    "import plotly.express as px\n",
    "import numpy as np"
   ]
  },
  {
   "cell_type": "code",
   "execution_count": 2,
   "id": "3cb42b4a-5ab6-45ef-8066-c081022f90d6",
   "metadata": {},
   "outputs": [],
   "source": [
    "# Adjusting settings analysis for pandas\n",
    "pd.set_option('display.max_columns', None)\n",
    "pd.set_option('display.max_rows', None)\n",
    "pd.options.display.float_format = '{:.2f}'.format"
   ]
  },
  {
   "cell_type": "code",
   "execution_count": 3,
   "id": "eefe8f6b-5d19-40f9-8b70-057959a3e078",
   "metadata": {},
   "outputs": [],
   "source": [
    "# Setting the Data Frame for the N26 database\n",
    "N26 = pd.read_csv(\"C://Users/elyse/Downloads/n26_profitability_dataset.csv\")"
   ]
  },
  {
   "cell_type": "code",
   "execution_count": 4,
   "id": "6f656796-8993-445f-82fc-7d2cddf0d2dc",
   "metadata": {
    "scrolled": true
   },
   "outputs": [
    {
     "name": "stdout",
     "output_type": "stream",
     "text": [
      "<class 'pandas.core.frame.DataFrame'>\n",
      "RangeIndex: 2341060 entries, 0 to 2341059\n",
      "Data columns (total 8 columns):\n",
      " #   Column        Dtype  \n",
      "---  ------        -----  \n",
      " 0   month         object \n",
      " 1   user_id       int64  \n",
      " 2   kycc_month    object \n",
      " 3   country_code  object \n",
      " 4   product       object \n",
      " 5   label         object \n",
      " 6   value         float64\n",
      " 7   revenue_cost  object \n",
      "dtypes: float64(1), int64(1), object(6)\n",
      "memory usage: 142.9+ MB\n"
     ]
    }
   ],
   "source": [
    "# Analyzing the data structure of N26 database\n",
    "N26.info()"
   ]
  },
  {
   "cell_type": "code",
   "execution_count": 5,
   "id": "43a5c3c0-ea87-45ca-957a-5c48c8114fd5",
   "metadata": {},
   "outputs": [
    {
     "data": {
      "text/html": [
       "<div>\n",
       "<style scoped>\n",
       "    .dataframe tbody tr th:only-of-type {\n",
       "        vertical-align: middle;\n",
       "    }\n",
       "\n",
       "    .dataframe tbody tr th {\n",
       "        vertical-align: top;\n",
       "    }\n",
       "\n",
       "    .dataframe thead th {\n",
       "        text-align: right;\n",
       "    }\n",
       "</style>\n",
       "<table border=\"1\" class=\"dataframe\">\n",
       "  <thead>\n",
       "    <tr style=\"text-align: right;\">\n",
       "      <th></th>\n",
       "      <th>month</th>\n",
       "      <th>user_id</th>\n",
       "      <th>kycc_month</th>\n",
       "      <th>country_code</th>\n",
       "      <th>product</th>\n",
       "      <th>label</th>\n",
       "      <th>value</th>\n",
       "      <th>revenue_cost</th>\n",
       "    </tr>\n",
       "  </thead>\n",
       "  <tbody>\n",
       "    <tr>\n",
       "      <th>0</th>\n",
       "      <td>2024-01</td>\n",
       "      <td>1</td>\n",
       "      <td>2024-01</td>\n",
       "      <td>ESP</td>\n",
       "      <td>crypto</td>\n",
       "      <td>LIQUIDITY_PROVIDER_FEE</td>\n",
       "      <td>1.66</td>\n",
       "      <td>cost</td>\n",
       "    </tr>\n",
       "    <tr>\n",
       "      <th>1</th>\n",
       "      <td>2024-01</td>\n",
       "      <td>1</td>\n",
       "      <td>2024-01</td>\n",
       "      <td>ESP</td>\n",
       "      <td>savings</td>\n",
       "      <td>FLOAT_INTEREST_EARNED</td>\n",
       "      <td>0.80</td>\n",
       "      <td>revenue</td>\n",
       "    </tr>\n",
       "    <tr>\n",
       "      <th>2</th>\n",
       "      <td>2024-01</td>\n",
       "      <td>1</td>\n",
       "      <td>2024-01</td>\n",
       "      <td>ESP</td>\n",
       "      <td>crypto</td>\n",
       "      <td>SPREAD_EARNED</td>\n",
       "      <td>7.83</td>\n",
       "      <td>revenue</td>\n",
       "    </tr>\n",
       "    <tr>\n",
       "      <th>3</th>\n",
       "      <td>2024-02</td>\n",
       "      <td>1</td>\n",
       "      <td>2024-01</td>\n",
       "      <td>ESP</td>\n",
       "      <td>customer_operations</td>\n",
       "      <td>FRAUD_INVESTIGATION</td>\n",
       "      <td>5.75</td>\n",
       "      <td>cost</td>\n",
       "    </tr>\n",
       "    <tr>\n",
       "      <th>4</th>\n",
       "      <td>2024-02</td>\n",
       "      <td>1</td>\n",
       "      <td>2024-01</td>\n",
       "      <td>ESP</td>\n",
       "      <td>payments</td>\n",
       "      <td>POS_INTERCHANGE</td>\n",
       "      <td>1.45</td>\n",
       "      <td>revenue</td>\n",
       "    </tr>\n",
       "  </tbody>\n",
       "</table>\n",
       "</div>"
      ],
      "text/plain": [
       "     month  user_id kycc_month country_code              product  \\\n",
       "0  2024-01        1    2024-01          ESP               crypto   \n",
       "1  2024-01        1    2024-01          ESP              savings   \n",
       "2  2024-01        1    2024-01          ESP               crypto   \n",
       "3  2024-02        1    2024-01          ESP  customer_operations   \n",
       "4  2024-02        1    2024-01          ESP             payments   \n",
       "\n",
       "                    label  value revenue_cost  \n",
       "0  LIQUIDITY_PROVIDER_FEE   1.66         cost  \n",
       "1   FLOAT_INTEREST_EARNED   0.80      revenue  \n",
       "2           SPREAD_EARNED   7.83      revenue  \n",
       "3     FRAUD_INVESTIGATION   5.75         cost  \n",
       "4         POS_INTERCHANGE   1.45      revenue  "
      ]
     },
     "execution_count": 5,
     "metadata": {},
     "output_type": "execute_result"
    }
   ],
   "source": [
    "# Analyzing the columns and data of the created N26 database table\n",
    "N26.head()"
   ]
  },
  {
   "cell_type": "code",
   "execution_count": 6,
   "id": "3f56ecd2-e5eb-4a5d-a318-5ffd5b446e36",
   "metadata": {},
   "outputs": [
    {
     "data": {
      "text/html": [
       "<div>\n",
       "<style scoped>\n",
       "    .dataframe tbody tr th:only-of-type {\n",
       "        vertical-align: middle;\n",
       "    }\n",
       "\n",
       "    .dataframe tbody tr th {\n",
       "        vertical-align: top;\n",
       "    }\n",
       "\n",
       "    .dataframe thead th {\n",
       "        text-align: right;\n",
       "    }\n",
       "</style>\n",
       "<table border=\"1\" class=\"dataframe\">\n",
       "  <thead>\n",
       "    <tr style=\"text-align: right;\">\n",
       "      <th></th>\n",
       "      <th>month</th>\n",
       "      <th>user_id</th>\n",
       "      <th>kycc_month</th>\n",
       "      <th>country_code</th>\n",
       "      <th>product</th>\n",
       "      <th>label</th>\n",
       "      <th>value</th>\n",
       "      <th>revenue_cost</th>\n",
       "    </tr>\n",
       "  </thead>\n",
       "  <tbody>\n",
       "    <tr>\n",
       "      <th>0</th>\n",
       "      <td>2024-01</td>\n",
       "      <td>1</td>\n",
       "      <td>2024-01</td>\n",
       "      <td>ESP</td>\n",
       "      <td>crypto</td>\n",
       "      <td>LIQUIDITY_PROVIDER_FEE</td>\n",
       "      <td>-1.66</td>\n",
       "      <td>cost</td>\n",
       "    </tr>\n",
       "    <tr>\n",
       "      <th>1</th>\n",
       "      <td>2024-01</td>\n",
       "      <td>1</td>\n",
       "      <td>2024-01</td>\n",
       "      <td>ESP</td>\n",
       "      <td>savings</td>\n",
       "      <td>FLOAT_INTEREST_EARNED</td>\n",
       "      <td>0.80</td>\n",
       "      <td>revenue</td>\n",
       "    </tr>\n",
       "    <tr>\n",
       "      <th>2</th>\n",
       "      <td>2024-01</td>\n",
       "      <td>1</td>\n",
       "      <td>2024-01</td>\n",
       "      <td>ESP</td>\n",
       "      <td>crypto</td>\n",
       "      <td>SPREAD_EARNED</td>\n",
       "      <td>7.83</td>\n",
       "      <td>revenue</td>\n",
       "    </tr>\n",
       "    <tr>\n",
       "      <th>3</th>\n",
       "      <td>2024-02</td>\n",
       "      <td>1</td>\n",
       "      <td>2024-01</td>\n",
       "      <td>ESP</td>\n",
       "      <td>customer_operations</td>\n",
       "      <td>FRAUD_INVESTIGATION</td>\n",
       "      <td>-5.75</td>\n",
       "      <td>cost</td>\n",
       "    </tr>\n",
       "    <tr>\n",
       "      <th>4</th>\n",
       "      <td>2024-02</td>\n",
       "      <td>1</td>\n",
       "      <td>2024-01</td>\n",
       "      <td>ESP</td>\n",
       "      <td>payments</td>\n",
       "      <td>POS_INTERCHANGE</td>\n",
       "      <td>1.45</td>\n",
       "      <td>revenue</td>\n",
       "    </tr>\n",
       "  </tbody>\n",
       "</table>\n",
       "</div>"
      ],
      "text/plain": [
       "     month  user_id kycc_month country_code              product  \\\n",
       "0  2024-01        1    2024-01          ESP               crypto   \n",
       "1  2024-01        1    2024-01          ESP              savings   \n",
       "2  2024-01        1    2024-01          ESP               crypto   \n",
       "3  2024-02        1    2024-01          ESP  customer_operations   \n",
       "4  2024-02        1    2024-01          ESP             payments   \n",
       "\n",
       "                    label  value revenue_cost  \n",
       "0  LIQUIDITY_PROVIDER_FEE  -1.66         cost  \n",
       "1   FLOAT_INTEREST_EARNED   0.80      revenue  \n",
       "2           SPREAD_EARNED   7.83      revenue  \n",
       "3     FRAUD_INVESTIGATION  -5.75         cost  \n",
       "4         POS_INTERCHANGE   1.45      revenue  "
      ]
     },
     "execution_count": 6,
     "metadata": {},
     "output_type": "execute_result"
    }
   ],
   "source": [
    "# Changing values in revenue_cost column -> by cost (-) and revenue (+)\n",
    "N26.loc[N26['revenue_cost'] == 'cost', 'value'] = -N26['value']\n",
    "N26.head()"
   ]
  },
  {
   "cell_type": "code",
   "execution_count": 7,
   "id": "22845d33-2596-4239-bbbe-c8c160e3f0b5",
   "metadata": {},
   "outputs": [
    {
     "data": {
      "text/html": [
       "<div>\n",
       "<style scoped>\n",
       "    .dataframe tbody tr th:only-of-type {\n",
       "        vertical-align: middle;\n",
       "    }\n",
       "\n",
       "    .dataframe tbody tr th {\n",
       "        vertical-align: top;\n",
       "    }\n",
       "\n",
       "    .dataframe thead th {\n",
       "        text-align: right;\n",
       "    }\n",
       "</style>\n",
       "<table border=\"1\" class=\"dataframe\">\n",
       "  <thead>\n",
       "    <tr style=\"text-align: right;\">\n",
       "      <th></th>\n",
       "      <th>user_id</th>\n",
       "      <th>value</th>\n",
       "    </tr>\n",
       "  </thead>\n",
       "  <tbody>\n",
       "    <tr>\n",
       "      <th>count</th>\n",
       "      <td>2341060.00</td>\n",
       "      <td>2341060.00</td>\n",
       "    </tr>\n",
       "    <tr>\n",
       "      <th>mean</th>\n",
       "      <td>52113.90</td>\n",
       "      <td>0.25</td>\n",
       "    </tr>\n",
       "    <tr>\n",
       "      <th>std</th>\n",
       "      <td>31444.64</td>\n",
       "      <td>10.86</td>\n",
       "    </tr>\n",
       "    <tr>\n",
       "      <th>min</th>\n",
       "      <td>1.00</td>\n",
       "      <td>-159.14</td>\n",
       "    </tr>\n",
       "    <tr>\n",
       "      <th>25%</th>\n",
       "      <td>25431.00</td>\n",
       "      <td>-3.52</td>\n",
       "    </tr>\n",
       "    <tr>\n",
       "      <th>50%</th>\n",
       "      <td>50897.00</td>\n",
       "      <td>0.00</td>\n",
       "    </tr>\n",
       "    <tr>\n",
       "      <th>75%</th>\n",
       "      <td>76337.00</td>\n",
       "      <td>2.49</td>\n",
       "    </tr>\n",
       "    <tr>\n",
       "      <th>max</th>\n",
       "      <td>125938.00</td>\n",
       "      <td>219.83</td>\n",
       "    </tr>\n",
       "  </tbody>\n",
       "</table>\n",
       "</div>"
      ],
      "text/plain": [
       "         user_id      value\n",
       "count 2341060.00 2341060.00\n",
       "mean    52113.90       0.25\n",
       "std     31444.64      10.86\n",
       "min         1.00    -159.14\n",
       "25%     25431.00      -3.52\n",
       "50%     50897.00       0.00\n",
       "75%     76337.00       2.49\n",
       "max    125938.00     219.83"
      ]
     },
     "execution_count": 7,
     "metadata": {},
     "output_type": "execute_result"
    }
   ],
   "source": [
    "# Analyzing the general characteristics of the data in the N26 database\n",
    "N26.describe()"
   ]
  },
  {
   "cell_type": "code",
   "execution_count": 8,
   "id": "932fa973-80f4-4954-84bd-bed19b42e0d1",
   "metadata": {},
   "outputs": [
    {
     "data": {
      "text/plain": [
       "country_code\n",
       "AUT        9434\n",
       "DEU       81772\n",
       "ESP        9532\n",
       "FRA       12476\n",
       "ITA       12724\n",
       "total    125938\n",
       "Name: user_id, dtype: int64"
      ]
     },
     "metadata": {},
     "output_type": "display_data"
    }
   ],
   "source": [
    "# Analyzing the N26 market (users) by country\n",
    "users = N26.groupby(['country_code'])['user_id'].nunique()\n",
    "users.loc['total'] = users.sum()\n",
    "display (users)"
   ]
  },
  {
   "cell_type": "code",
   "execution_count": 9,
   "id": "32833ccb-513e-433d-abe4-1412a55c90f8",
   "metadata": {},
   "outputs": [
    {
     "data": {
      "text/plain": [
       "country_code\n",
       "AUT      41697.84\n",
       "DEU     358173.97\n",
       "ESP      46990.58\n",
       "FRA      64322.80\n",
       "ITA      63950.27\n",
       "total   575135.46\n",
       "Name: value, dtype: float64"
      ]
     },
     "metadata": {},
     "output_type": "display_data"
    }
   ],
   "source": [
    "# Analyzing the N26 market (€) by profit\n",
    "totals_profit = N26.groupby(['country_code'])['value'].sum()\n",
    "totals_profit.loc['total'] = totals_profit.sum()\n",
    "display (totals_profit)"
   ]
  },
  {
   "cell_type": "code",
   "execution_count": 10,
   "id": "08e50a32-d129-41d1-8b23-629f80cfc7a8",
   "metadata": {},
   "outputs": [
    {
     "data": {
      "text/plain": [
       "country_code\n",
       "AUT     0.04\n",
       "DEU     0.31\n",
       "ESP     0.04\n",
       "FRA     0.06\n",
       "ITA     0.06\n",
       "total   1.00\n",
       "Name: value, dtype: float64"
      ]
     },
     "metadata": {},
     "output_type": "display_data"
    }
   ],
   "source": [
    "# Analyzing the Country Market Contribution to the N26 profit\n",
    "country_contribution = totals_profit / totals_profit.sum()\n",
    "country_contribution.loc['total'] = country_contribution.sum()\n",
    "display (country_contribution)"
   ]
  },
  {
   "cell_type": "code",
   "execution_count": 11,
   "id": "4590b026-cf2a-48e4-bb5f-f595bc135474",
   "metadata": {},
   "outputs": [
    {
     "data": {
      "text/plain": [
       "country_code\n",
       "AUT     4.42\n",
       "DEU     4.38\n",
       "ESP     4.93\n",
       "FRA     5.16\n",
       "ITA     5.03\n",
       "total   4.57\n",
       "dtype: float64"
      ]
     },
     "metadata": {},
     "output_type": "display_data"
    }
   ],
   "source": [
    "# Analyzing the N26 profit margin by user in each Country\n",
    "profit_margin = totals_profit/users\n",
    "display (profit_margin)"
   ]
  },
  {
   "cell_type": "code",
   "execution_count": 12,
   "id": "4a7f2c04-e55d-4c2d-b0e6-e283718c2842",
   "metadata": {},
   "outputs": [
    {
     "data": {
      "text/plain": [
       "product\n",
       "crypto                 1993233.42\n",
       "customer_operations   -3504689.70\n",
       "deposits               -660147.47\n",
       "payments                566975.09\n",
       "savings                -628790.32\n",
       "subscription           2808554.44\n",
       "total                   575135.46\n",
       "Name: value, dtype: float64"
      ]
     },
     "metadata": {},
     "output_type": "display_data"
    }
   ],
   "source": [
    "# Analyzing the N26 market (€) by product\n",
    "totals_by_product = N26.groupby('product')['value'].sum()\n",
    "totals_by_product.loc['total'] = totals_by_product.sum()\n",
    "display (totals_by_product)"
   ]
  },
  {
   "cell_type": "code",
   "execution_count": 13,
   "id": "ec44626d-cb15-459e-8e5d-08b919926710",
   "metadata": {},
   "outputs": [
    {
     "data": {
      "text/plain": [
       "product\n",
       "crypto                 1.73\n",
       "customer_operations   -3.05\n",
       "deposits              -0.57\n",
       "payments               0.49\n",
       "savings               -0.55\n",
       "subscription           2.44\n",
       "total                  0.50\n",
       "Name: value, dtype: float64"
      ]
     },
     "metadata": {},
     "output_type": "display_data"
    }
   ],
   "source": [
    "# Analyzing the N26 profit margin by each product\n",
    "profit_margin_product = totals_by_product/totals_by_product.sum()\n",
    "display (profit_margin_product)"
   ]
  },
  {
   "cell_type": "code",
   "execution_count": 14,
   "id": "344eae87-f3ad-47cb-b490-bbf07ddc0507",
   "metadata": {},
   "outputs": [
    {
     "data": {
      "text/plain": [
       "label\n",
       "ATM_WITHDRAWAL_FEE            423295.78\n",
       "CHARGEBACK_PROCESSING       -1174068.27\n",
       "CUSTODY_FEE                  -261488.47\n",
       "CUSTOMER_SERVICE            -1163259.74\n",
       "DEPOSIT_INSURANCE_COST       -870798.95\n",
       "FLOAT_INTEREST_EARNED         420923.88\n",
       "FLOAT_YIELD                   210651.48\n",
       "FRAUD_INSURANCE              -352491.38\n",
       "FRAUD_INVESTIGATION         -1167361.69\n",
       "FX_TRANSACTION_FEE            424460.67\n",
       "INTERCHANGE_OUTBOUND         -348706.15\n",
       "INTEREST_PAID_TO_CUSTOMER   -1049714.20\n",
       "KYC_VERIFICATION             -174501.62\n",
       "LIQUIDITY_PROVIDER_FEE       -261939.21\n",
       "PLAN_FEE_METAL               1580384.90\n",
       "POS_INTERCHANGE               420416.17\n",
       "SPREAD_EARNED                1257552.42\n",
       "SUPPORT_CONTACT              -176949.88\n",
       "TRADE_MARKUP                 1259108.68\n",
       "UPGRADE_FEE                  1579621.04\n",
       "total                         575135.46\n",
       "Name: value, dtype: float64"
      ]
     },
     "metadata": {},
     "output_type": "display_data"
    }
   ],
   "source": [
    "# Analyzing the N26 profit (€) by label\n",
    "profit_by_label = N26.groupby('label')['value'].sum()\n",
    "profit_by_label .loc['total'] = profit_by_label .sum()\n",
    "display (profit_by_label)"
   ]
  },
  {
   "cell_type": "code",
   "execution_count": 15,
   "id": "525852f8-6f67-4910-9d95-012228dd155e",
   "metadata": {
    "scrolled": true
   },
   "outputs": [
    {
     "data": {
      "text/plain": [
       "label\n",
       "ATM_WITHDRAWAL_FEE           0.37\n",
       "CHARGEBACK_PROCESSING       -1.02\n",
       "CUSTODY_FEE                 -0.23\n",
       "CUSTOMER_SERVICE            -1.01\n",
       "DEPOSIT_INSURANCE_COST      -0.76\n",
       "FLOAT_INTEREST_EARNED        0.37\n",
       "FLOAT_YIELD                  0.18\n",
       "FRAUD_INSURANCE             -0.31\n",
       "FRAUD_INVESTIGATION         -1.01\n",
       "FX_TRANSACTION_FEE           0.37\n",
       "INTERCHANGE_OUTBOUND        -0.30\n",
       "INTEREST_PAID_TO_CUSTOMER   -0.91\n",
       "KYC_VERIFICATION            -0.15\n",
       "LIQUIDITY_PROVIDER_FEE      -0.23\n",
       "PLAN_FEE_METAL               1.37\n",
       "POS_INTERCHANGE              0.37\n",
       "SPREAD_EARNED                1.09\n",
       "SUPPORT_CONTACT             -0.15\n",
       "TRADE_MARKUP                 1.09\n",
       "UPGRADE_FEE                  1.37\n",
       "total                        1.00\n",
       "Name: value, dtype: float64"
      ]
     },
     "metadata": {},
     "output_type": "display_data"
    }
   ],
   "source": [
    "# Analyzing the N26 profit margin by each label\n",
    "profit_margin_label = profit_by_label/profit_by_label.sum()\n",
    "profit_margin_label .loc['total'] = profit_margin_label.sum()\n",
    "display (profit_margin_label)"
   ]
  },
  {
   "cell_type": "code",
   "execution_count": 16,
   "id": "200fb2c1-c6eb-4d04-afa2-be122fdd3014",
   "metadata": {
    "scrolled": true
   },
   "outputs": [
    {
     "data": {
      "text/plain": [
       "country_code  product              label                    \n",
       "AUT           crypto               CUSTODY_FEE                  -18713.05\n",
       "                                   LIQUIDITY_PROVIDER_FEE       -19952.18\n",
       "                                   SPREAD_EARNED                 93560.03\n",
       "                                   TRADE_MARKUP                  92917.51\n",
       "              customer_operations  CHARGEBACK_PROCESSING        -86401.03\n",
       "                                   CUSTOMER_SERVICE             -86032.34\n",
       "                                   FRAUD_INVESTIGATION          -88417.81\n",
       "              deposits             DEPOSIT_INSURANCE_COST       -64899.00\n",
       "                                   FLOAT_YIELD                   16058.47\n",
       "              payments             ATM_WITHDRAWAL_FEE            31245.36\n",
       "                                   FRAUD_INSURANCE              -26476.01\n",
       "                                   FX_TRANSACTION_FEE            33072.68\n",
       "                                   INTERCHANGE_OUTBOUND         -26256.72\n",
       "                                   POS_INTERCHANGE               32023.12\n",
       "              savings              FLOAT_INTEREST_EARNED         32463.51\n",
       "                                   INTEREST_PAID_TO_CUSTOMER    -79876.79\n",
       "              subscription         KYC_VERIFICATION             -13172.75\n",
       "                                   PLAN_FEE_METAL               116770.46\n",
       "                                   SUPPORT_CONTACT              -13330.80\n",
       "                                   UPGRADE_FEE                  117115.18\n",
       "DEU           crypto               CUSTODY_FEE                 -169249.30\n",
       "                                   LIQUIDITY_PROVIDER_FEE      -170644.91\n",
       "                                   SPREAD_EARNED                816325.46\n",
       "                                   TRADE_MARKUP                 820879.12\n",
       "              customer_operations  CHARGEBACK_PROCESSING       -764719.89\n",
       "                                   CUSTOMER_SERVICE            -758690.56\n",
       "                                   FRAUD_INVESTIGATION         -759305.75\n",
       "              deposits             DEPOSIT_INSURANCE_COST      -567096.18\n",
       "                                   FLOAT_YIELD                  135568.88\n",
       "              payments             ATM_WITHDRAWAL_FEE           274746.95\n",
       "                                   FRAUD_INSURANCE             -228416.09\n",
       "                                   FX_TRANSACTION_FEE           272489.11\n",
       "                                   INTERCHANGE_OUTBOUND        -228164.69\n",
       "                                   POS_INTERCHANGE              271204.29\n",
       "              savings              FLOAT_INTEREST_EARNED        273045.65\n",
       "                                   INTEREST_PAID_TO_CUSTOMER   -683000.38\n",
       "              subscription         KYC_VERIFICATION            -113629.73\n",
       "                                   PLAN_FEE_METAL              1026334.16\n",
       "                                   SUPPORT_CONTACT             -115277.70\n",
       "                                   UPGRADE_FEE                 1025775.53\n",
       "ESP           crypto               CUSTODY_FEE                  -20650.44\n",
       "                                   LIQUIDITY_PROVIDER_FEE       -19887.08\n",
       "                                   SPREAD_EARNED                 96563.20\n",
       "                                   TRADE_MARKUP                  96660.79\n",
       "              customer_operations  CHARGEBACK_PROCESSING        -89559.14\n",
       "                                   CUSTOMER_SERVICE             -86712.45\n",
       "                                   FRAUD_INVESTIGATION          -87728.21\n",
       "              deposits             DEPOSIT_INSURANCE_COST       -66874.84\n",
       "                                   FLOAT_YIELD                   16382.96\n",
       "              payments             ATM_WITHDRAWAL_FEE            31795.82\n",
       "                                   FRAUD_INSURANCE              -27134.58\n",
       "                                   FX_TRANSACTION_FEE            32057.08\n",
       "                                   INTERCHANGE_OUTBOUND         -26791.14\n",
       "                                   POS_INTERCHANGE               33130.52\n",
       "              savings              FLOAT_INTEREST_EARNED         32014.43\n",
       "                                   INTEREST_PAID_TO_CUSTOMER    -80319.78\n",
       "              subscription         KYC_VERIFICATION             -12822.62\n",
       "                                   PLAN_FEE_METAL               122219.07\n",
       "                                   SUPPORT_CONTACT              -13410.99\n",
       "                                   UPGRADE_FEE                  118057.98\n",
       "FRA           crypto               CUSTODY_FEE                  -26475.64\n",
       "                                   LIQUIDITY_PROVIDER_FEE       -25250.11\n",
       "                                   SPREAD_EARNED                125548.70\n",
       "                                   TRADE_MARKUP                 122387.22\n",
       "              customer_operations  CHARGEBACK_PROCESSING       -116089.61\n",
       "                                   CUSTOMER_SERVICE            -116825.92\n",
       "                                   FRAUD_INVESTIGATION         -117098.94\n",
       "              deposits             DEPOSIT_INSURANCE_COST       -85438.78\n",
       "                                   FLOAT_YIELD                   21226.20\n",
       "              payments             ATM_WITHDRAWAL_FEE            42214.52\n",
       "                                   FRAUD_INSURANCE              -34419.50\n",
       "                                   FX_TRANSACTION_FEE            42905.95\n",
       "                                   INTERCHANGE_OUTBOUND         -33661.91\n",
       "                                   POS_INTERCHANGE               42518.09\n",
       "              savings              FLOAT_INTEREST_EARNED         41624.61\n",
       "                                   INTEREST_PAID_TO_CUSTOMER   -100648.83\n",
       "              subscription         KYC_VERIFICATION             -17389.35\n",
       "                                   PLAN_FEE_METAL               157256.80\n",
       "                                   SUPPORT_CONTACT              -17888.65\n",
       "                                   UPGRADE_FEE                  159827.95\n",
       "ITA           crypto               CUSTODY_FEE                  -26400.04\n",
       "                                   LIQUIDITY_PROVIDER_FEE       -26204.93\n",
       "                                   SPREAD_EARNED                125555.03\n",
       "                                   TRADE_MARKUP                 126264.04\n",
       "              customer_operations  CHARGEBACK_PROCESSING       -117298.60\n",
       "                                   CUSTOMER_SERVICE            -114998.47\n",
       "                                   FRAUD_INVESTIGATION         -114810.98\n",
       "              deposits             DEPOSIT_INSURANCE_COST       -86490.15\n",
       "                                   FLOAT_YIELD                   21414.97\n",
       "              payments             ATM_WITHDRAWAL_FEE            43293.13\n",
       "                                   FRAUD_INSURANCE              -36045.20\n",
       "                                   FX_TRANSACTION_FEE            43935.85\n",
       "                                   INTERCHANGE_OUTBOUND         -33831.69\n",
       "                                   POS_INTERCHANGE               41540.15\n",
       "              savings              FLOAT_INTEREST_EARNED         41775.68\n",
       "                                   INTEREST_PAID_TO_CUSTOMER   -105868.42\n",
       "              subscription         KYC_VERIFICATION             -17487.17\n",
       "                                   PLAN_FEE_METAL               157804.41\n",
       "                                   SUPPORT_CONTACT              -17041.74\n",
       "                                   UPGRADE_FEE                  158844.40\n",
       "total                                                           575135.46\n",
       "Name: value, dtype: float64"
      ]
     },
     "metadata": {},
     "output_type": "display_data"
    }
   ],
   "source": [
    "# Analyzing the N26 P&L by Country, Product and Label\n",
    "PL = N26.groupby(['country_code','product','label'])['value'].sum()\n",
    "PL.loc['total'] = PL.sum()\n",
    "display (PL)"
   ]
  },
  {
   "cell_type": "code",
   "execution_count": 17,
   "id": "bd7b10d5-5e7f-4356-8daf-7c79deda76b6",
   "metadata": {},
   "outputs": [
    {
     "data": {
      "text/plain": [
       "month\n",
       "2024-01       80000\n",
       "2024-02       83600\n",
       "2024-03       91542\n",
       "2024-04      100238\n",
       "2024-05      109761\n",
       "2024-06      120188\n",
       "user base    120188\n",
       "Name: user_id, dtype: int64"
      ]
     },
     "metadata": {},
     "output_type": "display_data"
    }
   ],
   "source": [
    "# Analyzing the N26 database (users) by reporting month \n",
    "monthly_users = N26.groupby(['month'])['user_id'].nunique()\n",
    "monthly_users.loc['user base'] = monthly_users.max()\n",
    "display (monthly_users)"
   ]
  },
  {
   "cell_type": "code",
   "execution_count": 18,
   "id": "5e55501a-12ee-4716-beab-cd0c5cc144f5",
   "metadata": {},
   "outputs": [
    {
     "data": {
      "text/plain": [
       "kycc_month\n",
       "2024-01            80000\n",
       "2024-02             7600\n",
       "2024-03             8322\n",
       "2024-04             9112\n",
       "2024-05             9978\n",
       "2024-06            10926\n",
       "kycc user base    125938\n",
       "Name: user_id, dtype: int64"
      ]
     },
     "metadata": {},
     "output_type": "display_data"
    }
   ],
   "source": [
    "# Analyzing the N26 database (users) by kycc month \n",
    "kycc_monthly_users = N26.groupby(['kycc_month'])['user_id'].nunique()\n",
    "kycc_monthly_users.loc['kycc user base'] = kycc_monthly_users.sum()\n",
    "display (kycc_monthly_users)"
   ]
  },
  {
   "cell_type": "code",
   "execution_count": 19,
   "id": "20140b98-8862-45b7-8e30-59119356dfc8",
   "metadata": {},
   "outputs": [
    {
     "data": {
      "text/plain": [
       "0.04784171464705289"
      ]
     },
     "metadata": {},
     "output_type": "display_data"
    },
    {
     "data": {
      "text/plain": [
       "5749"
      ]
     },
     "metadata": {},
     "output_type": "display_data"
    }
   ],
   "source": [
    "# Analyzing the N26 database (users) churn\n",
    "churn = kycc_monthly_users.loc['kycc user base'] / monthly_users.max() -1\n",
    "users_churned = kycc_monthly_users.loc['kycc user base'] - monthly_users.max() -1\n",
    "display (churn)\n",
    "display (users_churned)"
   ]
  },
  {
   "cell_type": "code",
   "execution_count": 20,
   "id": "237b1d44-caea-4074-9c7e-8043b8173fe4",
   "metadata": {},
   "outputs": [
    {
     "data": {
      "text/plain": [
       "country_code\n",
       "AUT                       50820.62\n",
       "DEU                       50363.01\n",
       "ESP                       56682.51\n",
       "FRA                       59280.50\n",
       "ITA                       57788.45\n",
       "total                     52509.23\n",
       "yearly profit at risk    327444.33\n",
       "monthly profit at risk    27287.03\n",
       "dtype: float64"
      ]
     },
     "metadata": {},
     "output_type": "display_data"
    }
   ],
   "source": [
    "# Analyzing the N26 profit at risk based on churn and profit margin by country (yearly & monthly)\n",
    "profit_at_risk = users_churned * 2 * profit_margin\n",
    "profit_at_risk.loc['yearly profit at risk'] = profit_at_risk.sum()\n",
    "profit_at_risk.loc['monthly profit at risk'] = profit_at_risk.sum() / 24\n",
    "display (profit_at_risk)"
   ]
  },
  {
   "cell_type": "code",
   "execution_count": 21,
   "id": "14d9301f-6d7d-4198-9f7f-f1a5d0274b62",
   "metadata": {},
   "outputs": [
    {
     "data": {
      "text/plain": [
       "product\n",
       "crypto                 0.08\n",
       "customer_operations   -0.15\n",
       "deposits              -0.03\n",
       "payments               0.02\n",
       "savings               -0.03\n",
       "subscription           0.12\n",
       "total                  0.02\n",
       "Name: value, dtype: float64"
      ]
     },
     "metadata": {},
     "output_type": "display_data"
    }
   ],
   "source": [
    "# Analyzing the N26 profit at risk based on churn (%) and profit margin by product (yearly & monthly)\n",
    "profit_at_risk_by_product =  churn * profit_margin_product\n",
    "display (profit_at_risk_by_product)"
   ]
  },
  {
   "cell_type": "code",
   "execution_count": 22,
   "id": "a5b51175-2551-4817-8bd8-952d2ea08d63",
   "metadata": {},
   "outputs": [
    {
     "data": {
      "text/plain": [
       "label\n",
       "ATM_WITHDRAWAL_FEE           0.02\n",
       "CHARGEBACK_PROCESSING       -0.05\n",
       "CUSTODY_FEE                 -0.01\n",
       "CUSTOMER_SERVICE            -0.05\n",
       "DEPOSIT_INSURANCE_COST      -0.04\n",
       "FLOAT_INTEREST_EARNED        0.02\n",
       "FLOAT_YIELD                  0.01\n",
       "FRAUD_INSURANCE             -0.01\n",
       "FRAUD_INVESTIGATION         -0.05\n",
       "FX_TRANSACTION_FEE           0.02\n",
       "INTERCHANGE_OUTBOUND        -0.01\n",
       "INTEREST_PAID_TO_CUSTOMER   -0.04\n",
       "KYC_VERIFICATION            -0.01\n",
       "LIQUIDITY_PROVIDER_FEE      -0.01\n",
       "PLAN_FEE_METAL               0.07\n",
       "POS_INTERCHANGE              0.02\n",
       "SPREAD_EARNED                0.05\n",
       "SUPPORT_CONTACT             -0.01\n",
       "TRADE_MARKUP                 0.05\n",
       "UPGRADE_FEE                  0.07\n",
       "total                        0.05\n",
       "Name: value, dtype: float64"
      ]
     },
     "metadata": {},
     "output_type": "display_data"
    }
   ],
   "source": [
    "# Analyzing the N26 profit at risk based on churn (%) and profit margin by label (yearly & monthly)\n",
    "profit_at_risk_by_label =  churn * profit_margin_label\n",
    "display (profit_at_risk_by_label)"
   ]
  },
  {
   "cell_type": "code",
   "execution_count": 23,
   "id": "a79fd888-24c5-4353-952c-327ad62e2754",
   "metadata": {},
   "outputs": [
    {
     "data": {
      "text/plain": [
       "country_code\n",
       "AUT     0.17\n",
       "DEU     1.49\n",
       "ESP     0.20\n",
       "FRA     0.27\n",
       "ITA     0.27\n",
       "total   4.78\n",
       "Name: value, dtype: float64"
      ]
     },
     "metadata": {},
     "output_type": "display_data"
    }
   ],
   "source": [
    "# Analyzing the N26 profit at risk based on churn (%) and profit margin by country (yearly & monthly)\n",
    "profit_at_risk_by_country =  churn * country_contribution *100\n",
    "display (profit_at_risk_by_country)"
   ]
  },
  {
   "cell_type": "code",
   "execution_count": 24,
   "id": "37574780-9188-4a67-99c3-0745a1ca4f6f",
   "metadata": {},
   "outputs": [
    {
     "data": {
      "text/plain": [
       "product              country_code  label                    \n",
       "crypto               AUT           CUSTODY_FEE                   4158\n",
       "                                   LIQUIDITY_PROVIDER_FEE        4312\n",
       "                                   SPREAD_EARNED                 5452\n",
       "                                   TRADE_MARKUP                  5499\n",
       "                     DEU           CUSTODY_FEE                  36922\n",
       "                                   LIQUIDITY_PROVIDER_FEE       36920\n",
       "                                   SPREAD_EARNED                47773\n",
       "                                   TRADE_MARKUP                 47949\n",
       "                     ESP           CUSTODY_FEE                   4336\n",
       "                                   LIQUIDITY_PROVIDER_FEE        4317\n",
       "                                   SPREAD_EARNED                 5614\n",
       "                                   TRADE_MARKUP                  5649\n",
       "                     FRA           CUSTODY_FEE                   5709\n",
       "                                   LIQUIDITY_PROVIDER_FEE        5557\n",
       "                                   SPREAD_EARNED                 7317\n",
       "                                   TRADE_MARKUP                  7219\n",
       "                     ITA           CUSTODY_FEE                   5753\n",
       "                                   LIQUIDITY_PROVIDER_FEE        5649\n",
       "                                   SPREAD_EARNED                 7515\n",
       "                                   TRADE_MARKUP                  7326\n",
       "customer_operations  AUT           CHARGEBACK_PROCESSING         5794\n",
       "                                   CUSTOMER_SERVICE              5893\n",
       "                                   FRAUD_INVESTIGATION           5912\n",
       "                     DEU           CHARGEBACK_PROCESSING        50893\n",
       "                                   CUSTOMER_SERVICE             50819\n",
       "                                   FRAUD_INVESTIGATION          51002\n",
       "                     ESP           CHARGEBACK_PROCESSING         5993\n",
       "                                   CUSTOMER_SERVICE              5956\n",
       "                                   FRAUD_INVESTIGATION           5879\n",
       "                     FRA           CHARGEBACK_PROCESSING         7812\n",
       "                                   CUSTOMER_SERVICE              7744\n",
       "                                   FRAUD_INVESTIGATION           7830\n",
       "                     ITA           CHARGEBACK_PROCESSING         7903\n",
       "                                   CUSTOMER_SERVICE              7780\n",
       "                                   FRAUD_INVESTIGATION           7806\n",
       "deposits             AUT           DEPOSIT_INSURANCE_COST        6425\n",
       "                                   FLOAT_YIELD                   7621\n",
       "                     DEU           DEPOSIT_INSURANCE_COST       55624\n",
       "                                   FLOAT_YIELD                  65890\n",
       "                     ESP           DEPOSIT_INSURANCE_COST        6579\n",
       "                                   FLOAT_YIELD                   7712\n",
       "                     FRA           DEPOSIT_INSURANCE_COST        8506\n",
       "                                   FLOAT_YIELD                  10061\n",
       "                     ITA           DEPOSIT_INSURANCE_COST        8666\n",
       "                                   FLOAT_YIELD                  10283\n",
       "payments             AUT           ATM_WITHDRAWAL_FEE            4232\n",
       "                                   FRAUD_INSURANCE               4277\n",
       "                                   FX_TRANSACTION_FEE            4324\n",
       "                                   INTERCHANGE_OUTBOUND          4268\n",
       "                                   POS_INTERCHANGE               4300\n",
       "                     DEU           ATM_WITHDRAWAL_FEE           36721\n",
       "                                   FRAUD_INSURANCE              36949\n",
       "                                   FX_TRANSACTION_FEE           36896\n",
       "                                   INTERCHANGE_OUTBOUND         36965\n",
       "                                   POS_INTERCHANGE              36735\n",
       "                     ESP           ATM_WITHDRAWAL_FEE            4211\n",
       "                                   FRAUD_INSURANCE               4332\n",
       "                                   FX_TRANSACTION_FEE            4279\n",
       "                                   INTERCHANGE_OUTBOUND          4301\n",
       "                                   POS_INTERCHANGE               4381\n",
       "                     FRA           ATM_WITHDRAWAL_FEE            5698\n",
       "                                   FRAUD_INSURANCE               5647\n",
       "                                   FX_TRANSACTION_FEE            5664\n",
       "                                   INTERCHANGE_OUTBOUND          5545\n",
       "                                   POS_INTERCHANGE               5692\n",
       "                     ITA           ATM_WITHDRAWAL_FEE            5770\n",
       "                                   FRAUD_INSURANCE               5800\n",
       "                                   FX_TRANSACTION_FEE            5765\n",
       "                                   INTERCHANGE_OUTBOUND          5657\n",
       "                                   POS_INTERCHANGE               5667\n",
       "savings              AUT           FLOAT_INTEREST_EARNED         7629\n",
       "                                   INTEREST_PAID_TO_CUSTOMER     6517\n",
       "                     DEU           FLOAT_INTEREST_EARNED        65869\n",
       "                                   INTEREST_PAID_TO_CUSTOMER    55953\n",
       "                     ESP           FLOAT_INTEREST_EARNED         7673\n",
       "                                   INTEREST_PAID_TO_CUSTOMER     6574\n",
       "                     FRA           FLOAT_INTEREST_EARNED        10003\n",
       "                                   INTEREST_PAID_TO_CUSTOMER     8532\n",
       "                     ITA           FLOAT_INTEREST_EARNED        10136\n",
       "                                   INTEREST_PAID_TO_CUSTOMER     8672\n",
       "subscription         AUT           KYC_VERIFICATION              4292\n",
       "                                   PLAN_FEE_METAL                5534\n",
       "                                   SUPPORT_CONTACT               4234\n",
       "                                   UPGRADE_FEE                   5503\n",
       "                     DEU           KYC_VERIFICATION             37097\n",
       "                                   PLAN_FEE_METAL               47968\n",
       "                                   SUPPORT_CONTACT              36950\n",
       "                                   UPGRADE_FEE                  47781\n",
       "                     ESP           KYC_VERIFICATION              4258\n",
       "                                   PLAN_FEE_METAL                5653\n",
       "                                   SUPPORT_CONTACT               4263\n",
       "                                   UPGRADE_FEE                   5508\n",
       "                     FRA           KYC_VERIFICATION              5630\n",
       "                                   PLAN_FEE_METAL                7327\n",
       "                                   SUPPORT_CONTACT               5730\n",
       "                                   UPGRADE_FEE                   7372\n",
       "                     ITA           KYC_VERIFICATION              5708\n",
       "                                   PLAN_FEE_METAL                7396\n",
       "                                   SUPPORT_CONTACT               5686\n",
       "                                   UPGRADE_FEE                   7357\n",
       "Name: user_id, dtype: int64"
      ]
     },
     "metadata": {},
     "output_type": "display_data"
    }
   ],
   "source": [
    "# Analyzing the N26 market (users) by product, country and label\n",
    "users_by_product = N26.groupby(['product','country_code','label'])['user_id'].nunique()\n",
    "display (users_by_product)"
   ]
  },
  {
   "cell_type": "code",
   "execution_count": 32,
   "id": "0cb274f3-e5e8-4593-8fec-3aa7b5b9b5be",
   "metadata": {},
   "outputs": [
    {
     "data": {
      "text/plain": [
       "product                     country_code  label                    \n",
       "crypto                      AUT           CUSTODY_FEE                 0.03\n",
       "                                          LIQUIDITY_PROVIDER_FEE      0.03\n",
       "                                          SPREAD_EARNED               0.04\n",
       "                                          TRADE_MARKUP                0.04\n",
       "                            DEU           CUSTODY_FEE                 0.29\n",
       "                                          LIQUIDITY_PROVIDER_FEE      0.29\n",
       "                                          SPREAD_EARNED               0.38\n",
       "                                          TRADE_MARKUP                0.38\n",
       "                            ESP           CUSTODY_FEE                 0.03\n",
       "                                          LIQUIDITY_PROVIDER_FEE      0.03\n",
       "                                          SPREAD_EARNED               0.04\n",
       "                                          TRADE_MARKUP                0.04\n",
       "                            FRA           CUSTODY_FEE                 0.05\n",
       "                                          LIQUIDITY_PROVIDER_FEE      0.04\n",
       "                                          SPREAD_EARNED               0.06\n",
       "                                          TRADE_MARKUP                0.06\n",
       "                            ITA           CUSTODY_FEE                 0.05\n",
       "                                          LIQUIDITY_PROVIDER_FEE      0.04\n",
       "                                          SPREAD_EARNED               0.06\n",
       "                                          TRADE_MARKUP                0.06\n",
       "customer_operations         AUT           CHARGEBACK_PROCESSING       0.05\n",
       "                                          CUSTOMER_SERVICE            0.05\n",
       "                                          FRAUD_INVESTIGATION         0.05\n",
       "                            DEU           CHARGEBACK_PROCESSING       0.40\n",
       "                                          CUSTOMER_SERVICE            0.40\n",
       "                                          FRAUD_INVESTIGATION         0.40\n",
       "                            ESP           CHARGEBACK_PROCESSING       0.05\n",
       "                                          CUSTOMER_SERVICE            0.05\n",
       "                                          FRAUD_INVESTIGATION         0.05\n",
       "                            FRA           CHARGEBACK_PROCESSING       0.06\n",
       "                                          CUSTOMER_SERVICE            0.06\n",
       "                                          FRAUD_INVESTIGATION         0.06\n",
       "                            ITA           CHARGEBACK_PROCESSING       0.06\n",
       "                                          CUSTOMER_SERVICE            0.06\n",
       "                                          FRAUD_INVESTIGATION         0.06\n",
       "deposits                    AUT           DEPOSIT_INSURANCE_COST      0.05\n",
       "                                          FLOAT_YIELD                 0.06\n",
       "                            DEU           DEPOSIT_INSURANCE_COST      0.44\n",
       "                                          FLOAT_YIELD                 0.52\n",
       "                            ESP           DEPOSIT_INSURANCE_COST      0.05\n",
       "                                          FLOAT_YIELD                 0.06\n",
       "                            FRA           DEPOSIT_INSURANCE_COST      0.07\n",
       "                                          FLOAT_YIELD                 0.08\n",
       "                            ITA           DEPOSIT_INSURANCE_COST      0.07\n",
       "                                          FLOAT_YIELD                 0.08\n",
       "payments                    AUT           ATM_WITHDRAWAL_FEE          0.03\n",
       "                                          FRAUD_INSURANCE             0.03\n",
       "                                          FX_TRANSACTION_FEE          0.03\n",
       "                                          INTERCHANGE_OUTBOUND        0.03\n",
       "                                          POS_INTERCHANGE             0.03\n",
       "                            DEU           ATM_WITHDRAWAL_FEE          0.29\n",
       "                                          FRAUD_INSURANCE             0.29\n",
       "                                          FX_TRANSACTION_FEE          0.29\n",
       "                                          INTERCHANGE_OUTBOUND        0.29\n",
       "                                          POS_INTERCHANGE             0.29\n",
       "                            ESP           ATM_WITHDRAWAL_FEE          0.03\n",
       "                                          FRAUD_INSURANCE             0.03\n",
       "                                          FX_TRANSACTION_FEE          0.03\n",
       "                                          INTERCHANGE_OUTBOUND        0.03\n",
       "                                          POS_INTERCHANGE             0.03\n",
       "                            FRA           ATM_WITHDRAWAL_FEE          0.05\n",
       "                                          FRAUD_INSURANCE             0.04\n",
       "                                          FX_TRANSACTION_FEE          0.04\n",
       "                                          INTERCHANGE_OUTBOUND        0.04\n",
       "                                          POS_INTERCHANGE             0.05\n",
       "                            ITA           ATM_WITHDRAWAL_FEE          0.05\n",
       "                                          FRAUD_INSURANCE             0.05\n",
       "                                          FX_TRANSACTION_FEE          0.05\n",
       "                                          INTERCHANGE_OUTBOUND        0.04\n",
       "                                          POS_INTERCHANGE             0.04\n",
       "savings                     AUT           FLOAT_INTEREST_EARNED       0.06\n",
       "                                          INTEREST_PAID_TO_CUSTOMER   0.05\n",
       "                            DEU           FLOAT_INTEREST_EARNED       0.52\n",
       "                                          INTEREST_PAID_TO_CUSTOMER   0.44\n",
       "                            ESP           FLOAT_INTEREST_EARNED       0.06\n",
       "                                          INTEREST_PAID_TO_CUSTOMER   0.05\n",
       "                            FRA           FLOAT_INTEREST_EARNED       0.08\n",
       "                                          INTEREST_PAID_TO_CUSTOMER   0.07\n",
       "                            ITA           FLOAT_INTEREST_EARNED       0.08\n",
       "                                          INTEREST_PAID_TO_CUSTOMER   0.07\n",
       "subscription                AUT           KYC_VERIFICATION            0.03\n",
       "                                          PLAN_FEE_METAL              0.04\n",
       "                                          SUPPORT_CONTACT             0.03\n",
       "                                          UPGRADE_FEE                 0.04\n",
       "                            DEU           KYC_VERIFICATION            0.29\n",
       "                                          PLAN_FEE_METAL              0.38\n",
       "                                          SUPPORT_CONTACT             0.29\n",
       "                                          UPGRADE_FEE                 0.38\n",
       "                            ESP           KYC_VERIFICATION            0.03\n",
       "                                          PLAN_FEE_METAL              0.04\n",
       "                                          SUPPORT_CONTACT             0.03\n",
       "                                          UPGRADE_FEE                 0.04\n",
       "                            FRA           KYC_VERIFICATION            0.04\n",
       "                                          PLAN_FEE_METAL              0.06\n",
       "                                          SUPPORT_CONTACT             0.05\n",
       "                                          UPGRADE_FEE                 0.06\n",
       "                            ITA           KYC_VERIFICATION            0.05\n",
       "                                          PLAN_FEE_METAL              0.06\n",
       "                                          SUPPORT_CONTACT             0.05\n",
       "                                          UPGRADE_FEE                 0.06\n",
       "user_by_product_proportion                                            2.00\n",
       "Name: user_id, dtype: float64"
      ]
     },
     "metadata": {},
     "output_type": "display_data"
    }
   ],
   "source": [
    "# Analyzing the N26 market (user proportion) by product, country and label\n",
    "\n",
    "users_by_product.loc['user_by_product_proportion'] = kycc_monthly_users.sum()\n",
    "user_by_product_proportion = (users_by_product/ user_by_product_proportion.sum()) *100\n",
    "display (user_by_product_proportion)"
   ]
  },
  {
   "cell_type": "code",
   "execution_count": 26,
   "id": "b81744da-633b-41a7-916d-1af96e19774c",
   "metadata": {},
   "outputs": [],
   "source": [
    "# N26 - Thank you so much for the challenge! I had a lot of fun."
   ]
  }
 ],
 "metadata": {
  "kernelspec": {
   "display_name": "Python [conda env:base] *",
   "language": "python",
   "name": "conda-base-py"
  },
  "language_info": {
   "codemirror_mode": {
    "name": "ipython",
    "version": 3
   },
   "file_extension": ".py",
   "mimetype": "text/x-python",
   "name": "python",
   "nbconvert_exporter": "python",
   "pygments_lexer": "ipython3",
   "version": "3.12.7"
  }
 },
 "nbformat": 4,
 "nbformat_minor": 5
}
